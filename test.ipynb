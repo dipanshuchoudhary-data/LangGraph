{
 "cells": [
  {
   "cell_type": "code",
   "execution_count": 2,
   "id": "bd049c82",
   "metadata": {},
   "outputs": [],
   "source": [
    "from langgraph.graph import StateGraph\n",
    "from typing import TypedDict"
   ]
  },
  {
   "cell_type": "markdown",
   "id": "7c60d7c6",
   "metadata": {},
   "source": [
    "Define State"
   ]
  },
  {
   "cell_type": "code",
   "execution_count": null,
   "id": "70321c3d",
   "metadata": {},
   "outputs": [],
   "source": [
    "\n",
    "class BMIState(TypedDict):\n",
    "    weight_kg = float\n",
    "    height_cm = float\n",
    "    BMI = float"
   ]
  },
  {
   "cell_type": "markdown",
   "id": "1f34024c",
   "metadata": {},
   "source": [
    "Define Graph"
   ]
  },
  {
   "cell_type": "code",
   "execution_count": null,
   "id": "2ed68a8f",
   "metadata": {},
   "outputs": [],
   "source": [
    "\n",
    "graph = StateGraph(BMIState)\n",
    "\n",
    "# Add nodes to graph\n",
    "\n",
    "graph.add_node()\n",
    "\n",
    "# Add edges to graph\n"
   ]
  },
  {
   "cell_type": "markdown",
   "id": "399a484e",
   "metadata": {},
   "source": [
    "Compile the graph"
   ]
  },
  {
   "cell_type": "code",
   "execution_count": null,
   "id": "0966e4d0",
   "metadata": {},
   "outputs": [],
   "source": []
  },
  {
   "cell_type": "markdown",
   "id": "5383e304",
   "metadata": {},
   "source": [
    "Execute the graph"
   ]
  },
  {
   "cell_type": "markdown",
   "id": "042b599b",
   "metadata": {},
   "source": []
  }
 ],
 "metadata": {
  "kernelspec": {
   "display_name": "langGraph",
   "language": "python",
   "name": "python3"
  },
  "language_info": {
   "codemirror_mode": {
    "name": "ipython",
    "version": 3
   },
   "file_extension": ".py",
   "mimetype": "text/x-python",
   "name": "python",
   "nbconvert_exporter": "python",
   "pygments_lexer": "ipython3",
   "version": "3.10.0"
  }
 },
 "nbformat": 4,
 "nbformat_minor": 5
}
